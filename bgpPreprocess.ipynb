{
 "cells": [
  {
   "cell_type": "code",
   "execution_count": 3,
   "metadata": {},
   "outputs": [],
   "source": [
    "import re"
   ]
  },
  {
   "cell_type": "code",
   "execution_count": 12,
   "metadata": {},
   "outputs": [],
   "source": [
    "fin=\"bgptable1_7.txt\"\n",
    "fout=\"bgptablepro1_7.txt\"\n",
    "f1 = open(fin,\"r\")\n",
    "f2 = open(fout,\"w\")\n"
   ]
  },
  {
   "cell_type": "code",
   "execution_count": 13,
   "metadata": {},
   "outputs": [
    {
     "name": "stdout",
     "output_type": "stream",
     "text": [
      "855997\n"
     ]
    }
   ],
   "source": [
    "pattern1 = r'[*>]+\\s+\\d+\\.\\S+\\d\\s+\\d+\\.\\S+\\d|[*>]+\\s+\\d+\\.\\S+\\d'\n",
    "pattern2 = r'\\d+\\.\\S+\\d'\n",
    "prefix=\"\"\n",
    "nexthop=\"\"\n",
    "count=0\n",
    "for line in f1.readlines():\n",
    "    ip = re.findall(pattern1,line)\n",
    "    if len(ip)==1:\n",
    "        ipsplit = re.findall(pattern2,ip[0])\n",
    "        if len(ipsplit)==2:\n",
    "            prefix=ipsplit[0]\n",
    "            if ip[0][1] == '>':\n",
    "                nexthop=ipsplit[1]\n",
    "                f2.write(\"{}    {}\\n\".format(prefix,nexthop))\n",
    "                count+=1\n",
    "        elif len(ipsplit) == 1 and ip[0][1]=='>':\n",
    "            nexthop= ipsplit[0]\n",
    "            f2.write(\"{}    {}\\n\".format(prefix,nexthop))\n",
    "            count+=1\n",
    "f1.close()\n",
    "f2.close()\n",
    "print(count)"
   ]
  },
  {
   "cell_type": "code",
   "execution_count": null,
   "metadata": {},
   "outputs": [],
   "source": []
  }
 ],
 "metadata": {
  "kernelspec": {
   "display_name": "Python 3",
   "language": "python",
   "name": "python3"
  },
  "language_info": {
   "codemirror_mode": {
    "name": "ipython",
    "version": 3
   },
   "file_extension": ".py",
   "mimetype": "text/x-python",
   "name": "python",
   "nbconvert_exporter": "python",
   "pygments_lexer": "ipython3",
   "version": "3.8.5"
  }
 },
 "nbformat": 4,
 "nbformat_minor": 4
}
