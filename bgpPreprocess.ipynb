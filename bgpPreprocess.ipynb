{
 "cells": [
  {
   "cell_type": "code",
   "execution_count": 52,
   "metadata": {},
   "outputs": [],
   "source": [
    "import re"
   ]
  },
  {
   "cell_type": "code",
   "execution_count": 53,
   "metadata": {},
   "outputs": [],
   "source": [
    "fin=\"origindata/AS65000_2_1.txt\"\n",
    "fout=\"processdata/AS65000pro_2_1.txt\"\n",
    "f1 = open(fin,\"r\")\n",
    "f2 = open(fout,\"w\")\n"
   ]
  },
  {
   "cell_type": "code",
   "execution_count": 54,
   "metadata": {},
   "outputs": [
    {
     "name": "stdout",
     "output_type": "stream",
     "text": [
      "876489\n"
     ]
    }
   ],
   "source": [
    "pattern1 = r'[*>]+\\s+\\d+\\.\\S+\\d\\s+\\d+\\.\\S+\\d|[*>]+\\s+\\d+\\.\\S+\\d'\n",
    "pattern2 = r'\\d+\\.\\S+\\d'\n",
    "pattern3 = r'\\d+'\n",
    "prefix=\"\"\n",
    "nexthop=\"\"\n",
    "count=0\n",
    "length=\"\"\n",
    "for line in f1.readlines():\n",
    "    ip = re.findall(pattern1,line)\n",
    "    if len(ip)==1:\n",
    "        ipsplit = re.findall(pattern2,ip[0])\n",
    "        if len(ipsplit)==2:\n",
    "            prefix=ipsplit[0]\n",
    "            #將取出的 prefix . . 之間數值分開\n",
    "            prefix = re.findall(pattern3,prefix)\n",
    "            sum = 0\n",
    "            for i in range(4):\n",
    "                sum=sum*(2**8)\n",
    "                sum=sum+int(prefix[i])\n",
    "            if len(prefix) == 5:\n",
    "                length = prefix[4]\n",
    "            else:\n",
    "                if prefix[3] == \"0\" and prefix[2]==\"0\" and prefix[1]==\"0\" and prefix[0]==\"0\":\n",
    "                    length=str(0)\n",
    "                elif prefix[3] == \"0\" and prefix[2]==\"0\" and prefix[1]==\"0\":\n",
    "                    length=str(8)\n",
    "                elif prefix[3] == \"0\" and prefix[2]==\"0\" :\n",
    "                    length = str(16)\n",
    "                elif prefix[3] == \"0\"  :\n",
    "                    length=str(24)\n",
    "                else:\n",
    "                    length=str(32)\n",
    "            prefix = str(sum)\n",
    "            \n",
    "            if ip[0][1] == '>':\n",
    "                nexthop=ipsplit[1]\n",
    "                # 將取出的 nexthop 的 prefix .. 之間的數值分開\n",
    "                nexthop = re.findall(pattern3,nexthop)\n",
    "                sum = 0\n",
    "                for i in range(4):\n",
    "                    sum=sum*(2**8)\n",
    "                    sum=sum+int(nexthop[i])\n",
    "                nexthop = str(sum)\n",
    "                f2.write(\"{} {} {}\\n\".format(prefix,length,nexthop))\n",
    "                count+=1\n",
    "        elif len(ipsplit) == 1 and ip[0][1]=='>':\n",
    "            nexthop= ipsplit[0]\n",
    "            nexthop = re.findall(pattern3,nexthop)\n",
    "            sum = 0\n",
    "            for i in range(4):\n",
    "                sum=sum*(2**8)\n",
    "                sum=sum+int(nexthop[i])\n",
    "            nexthop = str(sum)\n",
    "            f2.write(\"{} {} {}\\n\".format(prefix,length,nexthop))\n",
    "            count+=1\n",
    "f1.close()\n",
    "f2.close()\n",
    "print(count)"
   ]
  },
  {
   "cell_type": "code",
   "execution_count": null,
   "metadata": {},
   "outputs": [],
   "source": []
  },
  {
   "cell_type": "code",
   "execution_count": null,
   "metadata": {},
   "outputs": [],
   "source": []
  }
 ],
 "metadata": {
  "kernelspec": {
   "display_name": "Python 3",
   "language": "python",
   "name": "python3"
  },
  "language_info": {
   "codemirror_mode": {
    "name": "ipython",
    "version": 3
   },
   "file_extension": ".py",
   "mimetype": "text/x-python",
   "name": "python",
   "nbconvert_exporter": "python",
   "pygments_lexer": "ipython3",
   "version": "3.8.5"
  }
 },
 "nbformat": 4,
 "nbformat_minor": 4
}
